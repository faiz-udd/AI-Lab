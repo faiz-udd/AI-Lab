{
 "cells": [
  {
   "cell_type": "markdown",
   "id": "d7582f60",
   "metadata": {},
   "source": [
    "# Simple Linear Regression: Explanation, Equation, and Example\n",
    "\n",
    "## What is Simple Linear Regression?\n",
    "\n",
    "Simple linear regression is a statistical method used to model the relationship between two variables by fitting a linear equation to observed data. One variable is considered to be an explanatory variable (independent variable, usually denoted as `x`), and the other is considered to be a dependent variable (usually denoted as `y`).\n",
    "\n",
    "---\n",
    "\n",
    "## Equation of Simple Linear Regression\n",
    "\n",
    "The equation for a simple linear regression line is:\n",
    "\n",
    "\\[\n",
    "y = \\beta_0 + \\beta_1 x + \\epsilon\n",
    "\\]\n",
    "\n",
    "Where:\n",
    "- \\( y \\) = Dependent variable (what you want to predict)\n",
    "- \\( x \\) = Independent variable (the predictor)\n",
    "- \\( \\beta_0 \\) = Intercept (value of \\( y \\) when \\( x = 0 \\))\n",
    "- \\( \\beta_1 \\) = Slope (change in \\( y \\) for a one-unit change in \\( x \\))\n",
    "- \\( \\epsilon \\) = Error term (difference between observed and predicted values)\n",
    "\n",
    "---\n",
    "\n",
    "## Example Dataset\n",
    "\n",
    "Suppose we have data on the number of hours studied (`x`) and the corresponding exam scores (`y`) for five students:\n",
    "\n",
    "| Hours Studied (x) | Exam Score (y) |\n",
    "|-------------------|----------------|\n",
    "|        2          |      65        |\n",
    "|        3          |      70        |\n",
    "|        5          |      75        |\n",
    "|        7          |      80        |\n",
    "|        9          |      85        |\n",
    "\n",
    "We want to fit a simple linear regression model to predict exam scores based on hours studied.\n",
    "\n",
    "---\n"
   ]
  },
  {
   "cell_type": "code",
   "execution_count": null,
   "id": "5ab13cf6",
   "metadata": {},
   "outputs": [],
   "source": [
    "%pip install matplotlib\n",
    "# Import required libraries\n",
    "import numpy as np\n",
    "import matplotlib.pyplot as plt\n",
    "\n",
    "# Dataset\n",
    "x = np.array([2, 3, 5, 7, 9])\n",
    "y = np.array([65, 70, 75, 80, 85])\n",
    "\n",
    "# Step 1: Calculate means\n",
    "x_mean = np.mean(x)\n",
    "y_mean = np.mean(y)\n",
    "\n",
    "# Step 2: Calculate slope (beta_1)\n",
    "numerator = np.sum((x - x_mean) * (y - y_mean))\n",
    "denominator = np.sum((x - x_mean) ** 2)\n",
    "beta_1 = numerator / denominator\n",
    "\n",
    "# Step 3: Calculate intercept (beta_0)\n",
    "beta_0 = y_mean - beta_1 * x_mean\n",
    "\n",
    "# Print results\n",
    "print(f\"Mean of x = {x_mean:.2f}, Mean of y = {y_mean:.2f}\")\n",
    "print(f\"Slope (β1) = {beta_1:.2f}\")\n",
    "print(f\"Intercept (β0) = {beta_0:.2f}\")\n",
    "print(f\"Regression Equation: y = {beta_0:.2f} + {beta_1:.2f}x\")\n"
   ]
  },
  {
   "cell_type": "markdown",
   "id": "d408af94",
   "metadata": {},
   "source": [
    "### Interpretation\n",
    "\n",
    "- The intercept (β0) is the predicted exam score when hours studied is 0.\n",
    "- The slope (β1) means that for each additional hour studied, the exam score increases by about β1 points.\n"
   ]
  },
  {
   "cell_type": "code",
   "execution_count": null,
   "id": "daf4623c",
   "metadata": {
    "vscode": {
     "languageId": "plaintext"
    }
   },
   "outputs": [],
   "source": [
    "# Step 4: Visualization\n",
    "plt.figure(figsize=(8,6))\n",
    "\n",
    "# Scatter plot of actual data\n",
    "plt.scatter(x, y, color='blue', label='Data Points')\n",
    "\n",
    "# Regression line\n",
    "y_pred = beta_0 + beta_1 * x\n",
    "plt.plot(x, y_pred, color='red', label=f'Regression Line: y={beta_0:.2f}+{beta_1:.2f}x')\n",
    "\n",
    "# Labels and title\n",
    "plt.xlabel(\"Hours Studied\")\n",
    "plt.ylabel(\"Exam Score\")\n",
    "plt.title(\"Simple Linear Regression: Hours Studied vs Exam Score\")\n",
    "plt.legend()\n",
    "plt.grid(True)\n",
    "plt.show()\n"
   ]
  },
  {
   "cell_type": "markdown",
   "id": "3fdc79fd",
   "metadata": {},
   "source": [
    "## Final Notes\n",
    "\n",
    "- Simple Linear Regression is a way to find the **best straight line** that explains how one variable (x) affects another variable (y).\n",
    "- In this example:\n",
    "  - Regression Equation = **y = 60.75 + 2.74x**\n",
    "  - Interpretation: Every extra hour studied adds about **2.74 points** to the exam score."
   ]
  }
 ],
 "metadata": {
  "language_info": {
   "name": "python"
  }
 },
 "nbformat": 4,
 "nbformat_minor": 5
}
